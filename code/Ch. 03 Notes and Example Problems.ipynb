{
 "cells": [
  {
   "cell_type": "code",
   "execution_count": 15,
   "metadata": {
    "collapsed": true
   },
   "outputs": [],
   "source": [
    "import matplotlib.pyplot as plt\n",
    "from thinkbayes2 import Suite, Cdf, Pmf\n",
    "import thinkplot"
   ]
  },
  {
   "cell_type": "markdown",
   "metadata": {},
   "source": [
    "# Estimation\n",
    "\n",
    "Three step strategy for Bayesian estimation problems:\n",
    "\n",
    "1. Choose a representation for the hypothesis\n",
    "2. Choose a representation for the data\n",
    "3. Write the likelihood function"
   ]
  },
  {
   "cell_type": "markdown",
   "metadata": {},
   "source": [
    "## The dice problem\n",
    "\n",
    "> Suppose I have a box of dice that contains a 4-sided die, a 6-sided die, an 8-sided  die, a 12-sided  die, and a  20-sided die. If you have ever played Dungeons & Dragons, you know what I am talking about. Suppose I select a die from the box at random, roll it, and get a 6. What is the probability that I rolled each die?"
   ]
  },
  {
   "cell_type": "code",
   "execution_count": 16,
   "metadata": {
    "collapsed": true
   },
   "outputs": [],
   "source": [
    "class Dice(Suite):\n",
    "    \n",
    "    def Likelihood(self, data, hypo):\n",
    "        if hypo < data: # can't get a probability for a number that is greater than the max number of a single die\n",
    "            return 0.0\n",
    "        else:\n",
    "            return 1.0/hypo"
   ]
  },
  {
   "cell_type": "code",
   "execution_count": 17,
   "metadata": {
    "collapsed": true
   },
   "outputs": [],
   "source": [
    "# Choose a representation fo the hypothesis\n",
    "suite = Dice([4, 6, 8, 12, 20])"
   ]
  },
  {
   "cell_type": "code",
   "execution_count": 18,
   "metadata": {},
   "outputs": [
    {
     "data": {
      "text/plain": [
       "0.08499999999999999"
      ]
     },
     "execution_count": 18,
     "metadata": {},
     "output_type": "execute_result"
    }
   ],
   "source": [
    "# We role a six\n",
    "suite.Update(6)"
   ]
  },
  {
   "cell_type": "code",
   "execution_count": 19,
   "metadata": {},
   "outputs": [
    {
     "name": "stdout",
     "output_type": "stream",
     "text": [
      "4 0.0\n",
      "6 0.3921568627450981\n",
      "8 0.29411764705882354\n",
      "12 0.19607843137254904\n",
      "20 0.11764705882352944\n"
     ]
    }
   ],
   "source": [
    "suite.Print()"
   ]
  },
  {
   "cell_type": "code",
   "execution_count": 20,
   "metadata": {},
   "outputs": [
    {
     "name": "stdout",
     "output_type": "stream",
     "text": [
      "4 0.0\n",
      "6 0.0\n",
      "8 0.9432484536722124\n",
      "12 0.0552061280612909\n",
      "20 0.001545418266496554\n"
     ]
    }
   ],
   "source": [
    "for roll in [8, 6, 4, 1, 8, 7]:\n",
    "    suite.Update(roll)\n",
    "\n",
    "suite.Print()"
   ]
  },
  {
   "cell_type": "code",
   "execution_count": 21,
   "metadata": {},
   "outputs": [
    {
     "name": "stdout",
     "output_type": "stream",
     "text": [
      "4 0.0\n",
      "6 0.3921568627450981\n",
      "8 0.2941176470588236\n",
      "12 0.19607843137254904\n",
      "20 0.11764705882352945\n"
     ]
    }
   ],
   "source": [
    "# Double checking\n",
    "# We wish to calculate p(B|A) where B is rolling an n-sided die and A is rolled a six\n",
    "#\n",
    "# p(B|A) = p(B)*p(A|B)/p(A)\n",
    "#\n",
    "# Where:\n",
    "#       p(B) is the probability of rolling an n-sided die\n",
    "#       p(Bc) is the probability of not rolling an n-sided die\n",
    "#       p(A|B) is the probability of rolling a six with an n-sided die\n",
    "#       p(A|Bc) is the probability of rolling a six without rolling an n-sided die\n",
    "#       p(A) is the probability of rolling a six: p(A|B)p(B) + p(A|Bc)p(Bc)\n",
    "#\n",
    "\n",
    "prior = {4: 1/5., 6: 1/5., 8: 1/5., 12: 1/5., 20: 1/5.} # Selecting a specific die at random\n",
    "likelihood = {4: 0.0, 6: 1/6., 8: 1/8., 12: 1/12, 20: 1/20.}\n",
    "\n",
    "def prob_rolling_six(lik):\n",
    "    p = 0.0\n",
    "    for l in lik.values():\n",
    "        p += 1/5.*l\n",
    "    return p\n",
    "\n",
    "for die in likelihood.keys():\n",
    "    cond_prob = prior[die]*likelihood[die]/prob_rolling_six(likelihood)\n",
    "    print(f'{die} {cond_prob}')"
   ]
  },
  {
   "cell_type": "markdown",
   "metadata": {},
   "source": [
    "## The locomotive problem\n",
    "> “A railroad numbers its locomotives in order 1..N. One day you see a locomotive with the number 60. Estimate how many loco-motives the railroad has.”"
   ]
  },
  {
   "cell_type": "code",
   "execution_count": 22,
   "metadata": {
    "collapsed": true
   },
   "outputs": [],
   "source": [
    "# What did we know about N before we saw the data?\n",
    "# N is the number of locomotives a railroad has. N can be any positive integer (prior)\n",
    "\n",
    "# For a given value of N, what is the likelihood of seeing the data (60)?\n",
    "# The probability of seeing 60 is 0 for all N < 60, and 1/N for all N >= 60\n",
    "\n",
    "class Railroad(Suite):\n",
    "    \n",
    "    def Likelihood(self, data, hypo):\n",
    "        if hypo < data:\n",
    "            return 0.0\n",
    "        else:\n",
    "            return 1/hypo"
   ]
  },
  {
   "cell_type": "code",
   "execution_count": 23,
   "metadata": {},
   "outputs": [
    {
     "data": {
      "image/png": "[encoded data removed]",
      "text/plain": [
       "<Figure size 432x288 with 1 Axes>"
      ]
     },
     "metadata": {},
     "output_type": "display_data"
    }
   ],
   "source": [
    "thinkplot.PrePlot(num=2)\n",
    "\n",
    "suite = Railroad(range(1,1001))\n",
    "suite.label = 'prior'\n",
    "thinkplot.Pmf(suite)\n",
    "\n",
    "for data in [60]:\n",
    "    suite.Update(data)\n",
    "suite.label = 'posterior'\n",
    "thinkplot.Pmf(suite)\n",
    "\n",
    "thinkplot.Config(xlabel='Number of trains',\n",
    "                 ylabel='Probability')"
   ]
  },
  {
   "cell_type": "code",
   "execution_count": 24,
   "metadata": {},
   "outputs": [
    {
     "name": "stdout",
     "output_type": "stream",
     "text": [
      "333.41989326371095\n"
     ]
    }
   ],
   "source": [
    "print(suite.Mean())"
   ]
  },
  {
   "cell_type": "code",
   "execution_count": 25,
   "metadata": {
    "collapsed": true
   },
   "outputs": [],
   "source": [
    "# Now let's assume a power law distribution prior\n",
    "class PowerRailroad(Railroad):\n",
    "    \n",
    "    def __init__(self, hypos, alpha=1.0):\n",
    "        Pmf.__init__(self)\n",
    "        for hypo in hypos:\n",
    "            self[hypo] = hypo**(-1*alpha)\n",
    "        self.Normalize()"
   ]
  },
  {
   "cell_type": "code",
   "execution_count": 26,
   "metadata": {},
   "outputs": [
    {
     "data": {
      "image/png": "[encoded data removed]",
      "text/plain": [
       "<Figure size 432x288 with 1 Axes>"
      ]
     },
     "metadata": {},
     "output_type": "display_data"
    }
   ],
   "source": [
    "thinkplot.PrePlot(num=4)\n",
    "\n",
    "suite = Railroad(range(1,1001))\n",
    "train = PowerRailroad(range(1,1001))\n",
    "suite.label = 'Uniform prior'\n",
    "train.label = 'Power prior'\n",
    "thinkplot.Pmf(suite)\n",
    "#thinkplot.Pmf(train)\n",
    "\n",
    "for data in [60, 90, 120]:\n",
    "    suite.Update(data)\n",
    "    train.Update(data)\n",
    "suite.label = 'Original Posterior'\n",
    "train.label = 'Power Posterior'\n",
    "\n",
    "thinkplot.Pmf(suite)\n",
    "thinkplot.Pmf(train)\n",
    "\n",
    "thinkplot.Config(xlabel='Number of trains',\n",
    "                 ylabel='Probability')"
   ]
  },
  {
   "cell_type": "code",
   "execution_count": 27,
   "metadata": {},
   "outputs": [],
   "source": [
    "interval = train.Percentile(5), train.Percentile(95)"
   ]
  },
  {
   "cell_type": "code",
   "execution_count": 28,
   "metadata": {},
   "outputs": [
    {
     "name": "stdout",
     "output_type": "stream",
     "text": [
      "(122, 321)\n"
     ]
    }
   ],
   "source": [
    "print(interval)"
   ]
  },
  {
   "cell_type": "code",
   "execution_count": 29,
   "metadata": {},
   "outputs": [
    {
     "data": {
      "image/png": "[encoded data removed]",
      "text/plain": [
       "<Figure size 432x288 with 1 Axes>"
      ]
     },
     "metadata": {},
     "output_type": "display_data"
    }
   ],
   "source": [
    "cdf = Cdf(train)\n",
    "thinkplot.Cdf(cdf)\n",
    "thinkplot.Config(xlabel='Number of trains',\n",
    "                 ylabel='Cumulative Probability',\n",
    "                 legend=False)"
   ]
  },
  {
   "cell_type": "markdown",
   "metadata": {},
   "source": [
    "## Exercises"
   ]
  },
  {
   "cell_type": "markdown",
   "metadata": {},
   "source": [
    "**Exercise:** To write a likelihood function for the locomotive problem, we had\n",
    "to answer this question:  \"If the railroad has `N` locomotives, what\n",
    "is the probability that we see number 60?\"\n",
    "\n",
    "The answer depends on what sampling process we use when we observe the\n",
    "locomotive.  In this chapter, I resolved the ambiguity by specifying\n",
    "that there is only one train-operating company (or only one that we\n",
    "care about).\n",
    "\n",
    "But suppose instead that there are many companies with different\n",
    "numbers of trains.  And suppose that you are equally likely to see any\n",
    "train operated by any company.\n",
    "In that case, the likelihood function is different because you\n",
    "are more likely to see a train operated by a large company.\n",
    "\n",
    "As an exercise, implement the likelihood function for this variation\n",
    "of the locomotive problem, and compare the results."
   ]
  },
  {
   "cell_type": "code",
   "execution_count": 30,
   "metadata": {
    "collapsed": true
   },
   "outputs": [],
   "source": [
    "# We are supposing now that there are many companies with different numbers of trains. We are equally likely\n",
    "# to see any train operated by any company\n",
    "\n",
    "# The likelihood is different because you are more likely to see a train operated by a large company\n",
    "\n",
    "# Simplify: Suppose there is a town where train company A has N locomotives and company B has M locomotives.\n",
    "# The probability of seeing a train from company A is N / (N + M). To see a specific train (say, 60) from\n",
    "# company A, the probability is 1 / N.\n",
    "\n",
    "# Therefore the probability of seeing a train from company A is p(A)p(60|A) or 1 / (N + M).\n",
    "\n",
    "# For a given value of N, what is the likelihood of seeing the data (60)?\n",
    "# The probability of seeing 60 is 0 for all N < 60, and 1/N for all N >= 60"
   ]
  },
  {
   "cell_type": "markdown",
   "metadata": {},
   "source": [
    "**Exercise:** Suppose I capture and tag 10 rock hyraxes.  Some time later, I capture another 10 hyraxes and find that two of them are already tagged.  How many hyraxes are there in this environment?\n",
    "\n",
    "As always with problems like this, we have to make some modeling assumptions. \n",
    "\n",
    "1) For simplicity, you can assume that the environment is reasonably isolated, so the number of hyraxes does not change between observations.\n",
    "\n",
    "2) And you can assume that each hyrax is equally likely to be captured during each phase of the experiment, regardless of whether it has been tagged.  In reality, it is possible that tagged animals would avoid traps in the future, or possible that the same behavior that got them caught the first time makes them more likely to be caught again.  But let's start simple.\n",
    "\n",
    "I suggest the following notation:\n",
    "\n",
    "*  `N`: total population of hyraxes \n",
    "*  `K`: number of hyraxes tagged in the first round \n",
    "*  `n`: number of hyraxes caught in the second round\n",
    "*  `k`: number of hyraxes in the second round that had been tagged\n",
    "\n",
    "So `N` is the hypothesis and `(K, n, k)` make up the data.  The probability of the data, given the hypothesis, is the probability of finding `k` tagged hyraxes out of `n` if (in the population) `K` out of `N` are tagged. \n",
    "\n",
    "If you are familiar with the hypergeometric distribution, you can use the hypergeometric PMF to compute the likelihood function.  Otherwise, you can figure it out using combinatorics."
   ]
  },
  {
   "cell_type": "code",
   "execution_count": 237,
   "metadata": {
    "collapsed": true
   },
   "outputs": [],
   "source": [
    "# Okay\n",
    "\n",
    "# N is the hypothesis (The total population of hyraxes)\n",
    "\n",
    "# (K, n, k) is the data, where K is the number of hyraxes tagged in round 1, n is the number of hyraxes in round 2,\n",
    "# and k is the number of hyraxes that had been tagged\n",
    "\n",
    "# The probability of the data given the hypothesis is the probability of finding k tagged hyraxes out of n if\n",
    "# K out of N are tagged\n",
    "\n",
    "# We want to ultimately calculate P(Hypothesis|Data). The likelihood is P(Data|Hypothesis)\n",
    "# In other words, the likelihood is the probability that if there are N total hyraxes, we have the set (K, n, k)\n",
    "# P(K,n,k|N)\n",
    "\n",
    "# There are NCn total ways to find n hyraxes from a population of N\n",
    "\n",
    "# There are KCk ways to find k tagged hyraxes from a K tagged total\n",
    "\n",
    "# There are (N-K)C(n-k) ways to find n-k untagged hyraxes from N-K untagged total\n",
    "\n",
    "# Therefore, the probability of selecting k out of n hyraxes from a total N (where K are tagged) is given as:\n",
    "\n",
    "# KCk*(N-K)C(n-k)/NCn"
   ]
  },
  {
   "cell_type": "code",
   "execution_count": 63,
   "metadata": {
    "collapsed": true
   },
   "outputs": [],
   "source": [
    "import math\n",
    "\n",
    "def nCr(n,r):\n",
    "    f = math.factorial\n",
    "    return f(n) // f(r) // f(n-r)"
   ]
  },
  {
   "cell_type": "code",
   "execution_count": 106,
   "metadata": {},
   "outputs": [],
   "source": [
    "# Using the example 10 caught and tagged initially, 10 caught the second time, and 2 were already tagged\n",
    "# This assumes there are 20 total hyraxes in the environment\n",
    "#\n",
    "K = 10\n",
    "n = 10\n",
    "k = 2\n",
    "N = 20\n",
    "\n",
    "comb_tagged = nCr(K,k) #KCk\n",
    "comb_untagged = nCr(N-K,n-k) #(N-K)C(n-k)\n",
    "comb_total = nCr(N,n) #NCn"
   ]
  },
  {
   "cell_type": "code",
   "execution_count": 107,
   "metadata": {},
   "outputs": [
    {
     "data": {
      "text/plain": [
       "0.010960401827274893"
      ]
     },
     "execution_count": 107,
     "metadata": {},
     "output_type": "execute_result"
    }
   ],
   "source": [
    "comb_tagged*comb_untagged/comb_total"
   ]
  },
  {
   "cell_type": "code",
   "execution_count": 108,
   "metadata": {},
   "outputs": [
    {
     "data": {
      "text/plain": [
       "45"
      ]
     },
     "execution_count": 108,
     "metadata": {},
     "output_type": "execute_result"
    }
   ],
   "source": [
    "comb_untagged"
   ]
  },
  {
   "cell_type": "code",
   "execution_count": 109,
   "metadata": {},
   "outputs": [
    {
     "data": {
      "text/plain": [
       "184756"
      ]
     },
     "execution_count": 109,
     "metadata": {},
     "output_type": "execute_result"
    }
   ],
   "source": [
    "comb_total"
   ]
  },
  {
   "cell_type": "code",
   "execution_count": 125,
   "metadata": {
    "collapsed": true
   },
   "outputs": [],
   "source": [
    "class Hyraxes(Suite):\n",
    "\n",
    "    def nCr(n,r):\n",
    "        f = math.factorial\n",
    "        return f(n) // f(r) // f(n-r)\n",
    "\n",
    "    def Likelihood(self, data, hypo):\n",
    "        K, n, k = data\n",
    "        N = hypo\n",
    "        if N < K + (n-k):\n",
    "            return 0.0\n",
    "        else:\n",
    "            return nCr(K,k)*nCr(N-K,n-k)/nCr(N,n)"
   ]
  },
  {
   "cell_type": "code",
   "execution_count": 129,
   "metadata": {
    "collapsed": true
   },
   "outputs": [],
   "source": [
    "hyrax = Hyraxes(range(1, 1000))"
   ]
  },
  {
   "cell_type": "code",
   "execution_count": 130,
   "metadata": {},
   "outputs": [],
   "source": [
    "for data in [(10, 10, 2)]:\n",
    "    hyrax.Update(data)"
   ]
  },
  {
   "cell_type": "code",
   "execution_count": 131,
   "metadata": {},
   "outputs": [
    {
     "data": {
      "image/png": "[encoded data removed]",
      "text/plain": [
       "<Figure size 432x288 with 1 Axes>"
      ]
     },
     "metadata": {},
     "output_type": "display_data"
    }
   ],
   "source": [
    "hyrax.label = 'posterior'\n",
    "thinkplot.Pmf(hyrax)\n",
    "\n",
    "thinkplot.Config(xlabel='Number of hyraxes',\n",
    "                 ylabel='Probability')"
   ]
  },
  {
   "cell_type": "code",
   "execution_count": 136,
   "metadata": {},
   "outputs": [
    {
     "name": "stdout",
     "output_type": "stream",
     "text": [
      "Posterior Mean: 185.57095794814543\n",
      "Maximum a posterior likelihood: 50\n",
      "90% Credible Interval: (36, 618)\n"
     ]
    }
   ],
   "source": [
    "print(f'Posterior Mean: {hyrax.Mean()}')\n",
    "print(f'Maximum a posterior likelihood: {hyrax.MaximumLikelihood()}')\n",
    "print(f'90% Credible Interval: {hyrax.CredibleInterval(90)}')"
   ]
  },
  {
   "cell_type": "code",
   "execution_count": null,
   "metadata": {
    "collapsed": true
   },
   "outputs": [],
   "source": []
  }
 ],
 "metadata": {
  "kernelspec": {
   "display_name": "thinkbayes_py3",
   "language": "python",
   "name": "thinkbayes_py3"
  },
  "language_info": {
   "codemirror_mode": {
    "name": "ipython",
    "version": 3
   },
   "file_extension": ".py",
   "mimetype": "text/x-python",
   "name": "python",
   "nbconvert_exporter": "python",
   "pygments_lexer": "ipython3",
   "version": "3.6.2"
  }
 },
 "nbformat": 4,
 "nbformat_minor": 2
}
