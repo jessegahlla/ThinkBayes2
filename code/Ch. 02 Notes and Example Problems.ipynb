{
 "cells": [
  {
   "cell_type": "code",
   "execution_count": 1,
   "metadata": {},
   "outputs": [
    {
     "name": "stderr",
     "output_type": "stream",
     "text": [
      "/Users/jgahlla/virtualenvs/thinkbayes_py3/lib/python3.6/importlib/_bootstrap.py:219: RuntimeWarning: numpy.dtype size changed, may indicate binary incompatibility. Expected 96, got 88\n",
      "  return f(*args, **kwds)\n"
     ]
    }
   ],
   "source": [
    "from thinkbayes2 import Suite, Pmf"
   ]
  },
  {
   "cell_type": "markdown",
   "metadata": {},
   "source": [
    "## The cookie problem"
   ]
  },
  {
   "cell_type": "code",
   "execution_count": 2,
   "metadata": {},
   "outputs": [
    {
     "name": "stdout",
     "output_type": "stream",
     "text": [
      "Bowl 1 0.6000000000000001\n",
      "Bowl 2 0.4\n"
     ]
    }
   ],
   "source": [
    "pmf = Pmf()\n",
    "pmf.Set('Bowl 1', 0.5)\n",
    "pmf.Set('Bowl 2', 0.5)\n",
    "\n",
    "pmf.Mult('Bowl 1', 0.75)\n",
    "pmf.Mult('Bowl 2', 0.5)\n",
    "\n",
    "pmf.Normalize()\n",
    "pmf.Print()"
   ]
  },
  {
   "cell_type": "markdown",
   "metadata": {},
   "source": [
    "### As a Bayesian framework"
   ]
  },
  {
   "cell_type": "code",
   "execution_count": 3,
   "metadata": {},
   "outputs": [],
   "source": [
    "class Cookie(Pmf):\n",
    "    \n",
    "    def __init__(self, hypos):\n",
    "        \"\"\"\n",
    "        Initializes the prior hypothesis\n",
    "        hypos - list of string names for each hypothesis\n",
    "        \"\"\"\n",
    "        Pmf.__init__(self)\n",
    "        for hypo in hypos:\n",
    "            self.Set(hypo, 1)\n",
    "        self.Normalize()\n",
    "    \n",
    "    def Update(self, data):\n",
    "        \"\"\"\n",
    "        Multiplies the prior distribution with the likelihood\n",
    "        data - string of cookie flavor\n",
    "        \"\"\"\n",
    "        for hypo in self.Values():\n",
    "            like = self.Likelihood(data, hypo)\n",
    "            self.Mult(hypo, like)\n",
    "        self.Normalize()\n",
    "    \n",
    "    mixes = {\n",
    "        'Bowl 1':dict(vanilla=0.75, chocolate=0.25), # Likelihood\n",
    "        'Bowl 2':dict(vanilla=0.5, chocolate=0.5)\n",
    "    }\n",
    "    \n",
    "    def Likelihood(self, data, hypo):\n",
    "        \"\"\"\n",
    "        Returns likelihood given the data\n",
    "        \"\"\"\n",
    "        mix = self.mixes[hypo]\n",
    "        like = mix[data]\n",
    "        return like"
   ]
  },
  {
   "cell_type": "code",
   "execution_count": 5,
   "metadata": {},
   "outputs": [
    {
     "name": "stdout",
     "output_type": "stream",
     "text": [
      "Bowl 1 0.6000000000000001\n",
      "Bowl 2 0.4\n"
     ]
    }
   ],
   "source": [
    "pmf = Cookie(['Bowl 1', 'Bowl 2'])\n",
    "pmf.Update('vanilla')\n",
    "pmf.Print()"
   ]
  },
  {
   "cell_type": "markdown",
   "metadata": {},
   "source": [
    "## Monty Hall Problem"
   ]
  },
  {
   "cell_type": "code",
   "execution_count": 20,
   "metadata": {},
   "outputs": [],
   "source": [
    "class Monty(Pmf):\n",
    "    \n",
    "    def __init__(self, hypos):\n",
    "        \"\"\"\n",
    "        Initializes the prior probabilities\n",
    "        \"\"\"\n",
    "        Pmf.__init__(self)\n",
    "        for hypo in hypos:\n",
    "            self.Set(hypo, 1)\n",
    "        self.Normalize()\n",
    "    \n",
    "    def Update(self, data):\n",
    "        \"\"\"\n",
    "        Multiplies the prior with the likelihood\n",
    "        \"\"\"\n",
    "        for hypo in self.Values():\n",
    "            like = self.Likelihood(data, hypo)\n",
    "            self.Mult(hypo, like)\n",
    "        self.Normalize()\n",
    "    \n",
    "    def Likelihood(self, data, hypo):\n",
    "        \"\"\"\n",
    "        Likelihood of that Monty will open door B given the hypothesis\n",
    "        \"\"\"\n",
    "        if hypo == data:\n",
    "            return 0 # If person picks A and car is behind B, no chance Monty will open B\n",
    "        elif hypo == 'A':\n",
    "            return 0.5 # If person picks A and car is behind A, equal chance Monty will pick B\n",
    "        else:\n",
    "            return 1.0 # If person picks A, and the car is in C, Monty will only pick B"
   ]
  },
  {
   "cell_type": "code",
   "execution_count": 21,
   "metadata": {},
   "outputs": [
    {
     "name": "stdout",
     "output_type": "stream",
     "text": [
      "A 0.3333333333333333\n",
      "B 0.0\n",
      "C 0.6666666666666666\n"
     ]
    }
   ],
   "source": [
    "pmf = Monty('ABC')\n",
    "pmf.Update('B')\n",
    "pmf.Print()"
   ]
  },
  {
   "cell_type": "markdown",
   "metadata": {},
   "source": [
    "### Encapsulating the framework"
   ]
  },
  {
   "cell_type": "code",
   "execution_count": 22,
   "metadata": {},
   "outputs": [],
   "source": [
    "class Monty(Suite):\n",
    "    \n",
    "    def Likelihood(self, data, hypo):\n",
    "        if hypo == data:\n",
    "            return 0\n",
    "        elif hypo == 'A':\n",
    "            return 0.5\n",
    "        else:\n",
    "            return 1"
   ]
  },
  {
   "cell_type": "code",
   "execution_count": 23,
   "metadata": {},
   "outputs": [
    {
     "name": "stdout",
     "output_type": "stream",
     "text": [
      "A 0.3333333333333333\n",
      "B 0.0\n",
      "C 0.6666666666666666\n"
     ]
    }
   ],
   "source": [
    "suite = Monty('ABC')\n",
    "suite.Update('B')\n",
    "suite.Print()"
   ]
  },
  {
   "cell_type": "markdown",
   "metadata": {},
   "source": [
    "## The M&M problem"
   ]
  },
  {
   "cell_type": "code",
   "execution_count": 27,
   "metadata": {},
   "outputs": [],
   "source": [
    "class M_and_M(Suite):\n",
    "    \n",
    "    mix94 = dict(\n",
    "        brown=30,\n",
    "        yellow=20,\n",
    "        red=20,\n",
    "        green=10,\n",
    "        orange=10,\n",
    "        tan=10\n",
    "    )\n",
    "    \n",
    "    mix96 = dict(\n",
    "        blue=24,\n",
    "        green=20,\n",
    "        orange=16,\n",
    "        yellow=14,\n",
    "        red=13,\n",
    "        brown=13\n",
    "    ) \n",
    "    \n",
    "    hypoA = dict(bag1=mix94, bag2=mix96) # Hypothesis\n",
    "    hypoB = dict(bag1=mix96, bag2=mix94) # Hypothesis\n",
    "    \n",
    "    hypotheses = dict(A=hypoA, B=hypoB)\n",
    "    \n",
    "    def Likelihood(self, data, hypo):\n",
    "        \"\"\"\n",
    "        data - a tuple defining the bag an m&m is drawn from, and its color\n",
    "        hypo - the hypothesis string \n",
    "        \"\"\"\n",
    "        bag, color = data\n",
    "        mix = self.hypotheses[hypo][bag]\n",
    "        like = mix[color]\n",
    "        return like"
   ]
  },
  {
   "cell_type": "code",
   "execution_count": 28,
   "metadata": {},
   "outputs": [
    {
     "name": "stdout",
     "output_type": "stream",
     "text": [
      "A 0.7407407407407407\n",
      "B 0.2592592592592592\n"
     ]
    }
   ],
   "source": [
    "suite = M_and_M('AB')\n",
    "\n",
    "suite.Update(('bag1', 'yellow'))\n",
    "suite.Update(('bag2', 'green'))\n",
    "\n",
    "suite.Print()"
   ]
  },
  {
   "cell_type": "markdown",
   "metadata": {},
   "source": [
    "## Exercises"
   ]
  },
  {
   "cell_type": "markdown",
   "metadata": {},
   "source": [
    "### Exercise 1\n",
    "> This one is from one of my favorite books, David MacKay's \"Information Theory, Inference, and Learning Algorithms\":\n",
    "> \n",
    "> Elvis Presley had a twin brother who died at birth.  What is the probability that Elvis was an identical twin?\"\n",
    ">   \n",
    "> To answer this one, you need some background information: According to the Wikipedia article on twins:  ``Twins are estimated to be approximately 1.9% of the world population, with monozygotic twins making up 0.2% of the total---and 8% of all twins.''"
   ]
  },
  {
   "cell_type": "code",
   "execution_count": 36,
   "metadata": {},
   "outputs": [
    {
     "name": "stdout",
     "output_type": "stream",
     "text": [
      "fraternal 0.8518518518518517\n",
      "identical 0.14814814814814814\n"
     ]
    }
   ],
   "source": [
    "pmf = Pmf(dict(fraternal=0.92, identical=0.08)) # Given that Elvis was a twin, the prior of being identical\n",
    "\n",
    "# Data: Twin was a male\n",
    "\n",
    "pmf['fraternal'] *= 0.5 # 50% chance of being a male given he is a fraternal twin\n",
    "pmf['identical'] *= 1.0 # 100% chance of being a male given he is an identical twin\n",
    "\n",
    "pmf.Normalize()\n",
    "pmf.Print()"
   ]
  },
  {
   "cell_type": "markdown",
   "metadata": {},
   "source": [
    "### Exercise 2\n",
    "> Let's consider a more general version of the Monty Hall problem where Monty is more unpredictable. As before, Monty never opens the door you chose (let's call it A) and never opens the door with the prize. So if you choose the door with the prize, Monty has to decide which door to open. Suppose he opens B with probability p and C with probability 1-p. If you choose A and Monty opens B, what is the probability that the car is behind A, in terms of p? What if Monty opens C?\n",
    "> \n",
    "> Hint: you might want to use SymPy to do the algebra for you."
   ]
  },
  {
   "cell_type": "code",
   "execution_count": 70,
   "metadata": {},
   "outputs": [
    {
     "data": {
      "text/plain": [
       "1.0*p/(p + 1)"
      ]
     },
     "execution_count": 70,
     "metadata": {},
     "output_type": "execute_result"
    }
   ],
   "source": [
    "from sympy import symbols\n",
    "\n",
    "p = symbols('p')\n",
    "\n",
    "pmf = Pmf('ABC')\n",
    "pmf['A'] *= p # The probability Monty picks B if the car is in A\n",
    "pmf['B'] *= 0 # The probability Monty picks B if the car is in B\n",
    "pmf['C'] *= 1 # The probability Monty picks B if the car is in C\n",
    "\n",
    "pmf.Normalize()\n",
    "\n",
    "pmf['A'].simplify()"
   ]
  },
  {
   "cell_type": "code",
   "execution_count": 71,
   "metadata": {},
   "outputs": [
    {
     "data": {
      "text/plain": [
       "0.333333333333333"
      ]
     },
     "execution_count": 71,
     "metadata": {},
     "output_type": "execute_result"
    }
   ],
   "source": [
    "pmf['A'].evalf(subs={p:0.5})"
   ]
  },
  {
   "cell_type": "code",
   "execution_count": 72,
   "metadata": {},
   "outputs": [
    {
     "data": {
      "text/plain": [
       "0.333333333333333*(p - 1)/(0.333333333333333*p - 0.666666666666667)"
      ]
     },
     "execution_count": 72,
     "metadata": {},
     "output_type": "execute_result"
    }
   ],
   "source": [
    "p = symbols('p')\n",
    "\n",
    "pmf = Pmf('ABC')\n",
    "pmf['A'] *= 1-p # The probability Monty picks C if the car is in A\n",
    "pmf['B'] *= 1 # The probability Monty picks C if the car is in B\n",
    "pmf['C'] *= 0 # The probability Monty picks C if the car is in C\n",
    "\n",
    "pmf.Normalize()\n",
    "pmf['A'].simplify()"
   ]
  },
  {
   "cell_type": "code",
   "execution_count": 73,
   "metadata": {},
   "outputs": [
    {
     "data": {
      "text/plain": [
       "0.333333333333333"
      ]
     },
     "execution_count": 73,
     "metadata": {},
     "output_type": "execute_result"
    }
   ],
   "source": [
    "pmf['A'].evalf(subs={p:0.5})"
   ]
  },
  {
   "cell_type": "markdown",
   "metadata": {},
   "source": [
    "### Exercise 3 \n",
    ">According to the CDC, ``Compared to nonsmokers, men who smoke are about 23 times more likely to develop lung cancer and women who smoke are about 13 times more likely.''  Also, among adults in the U.S. in 2014:\n",
    ">\n",
    "> Nearly 19 of every 100 adult men (18.8%)\n",
    "> Nearly 15 of every 100 adult women (14.8%)\n",
    ">\n",
    ">If you learn that a woman has been diagnosed with lung cancer, and you know nothing else about her, what is the probability that she is a smoker?"
   ]
  },
  {
   "cell_type": "code",
   "execution_count": 75,
   "metadata": {},
   "outputs": [
    {
     "name": "stdout",
     "output_type": "stream",
     "text": [
      "nonsmoker 0.30691642651296835\n",
      "smoker 0.6930835734870318\n"
     ]
    }
   ],
   "source": [
    "pmf = Pmf(dict(smoker=0.148, nonsmoker=0.852)) # Prior distribution\n",
    "\n",
    "pmf['smoker'] *= 13 # Change in factor when we learn she is diagnosed with lung cancer\n",
    "pmf['nonsmoker'] *= 1\n",
    "\n",
    "pmf.Normalize()\n",
    "pmf.Print()"
   ]
  },
  {
   "cell_type": "markdown",
   "metadata": {},
   "source": [
    "### Exercise 4\n",
    ">In Section 2.3 I said that the solution to the cookie problem generalizes to the case where we draw multiple cookies with replacement.\n",
    ">\n",
    ">But in the more likely scenario where we eat the cookies we draw, the likelihood of each draw depends on the previous draws.\n",
    ">\n",
    ">Modify the solution in this chapter to handle selection without replacement. Hint: add instance variables to Cookie to represent the hypothetical state of the bowls, and modify Likelihood accordingly. You might want to define a Bowl object."
   ]
  },
  {
   "cell_type": "code",
   "execution_count": 76,
   "metadata": {},
   "outputs": [],
   "source": [
    "class Bowl:\n",
    "    \"\"\" A bowl object \"\"\"\n",
    "    \n",
    "    def __init__(self, n_vanilla, n_chocolate):\n",
    "        self.n_vanilla = n_vanilla\n",
    "        self.n_chocolate = n_chocolate\n",
    "        self.pct_vanilla = None\n",
    "        self.pct_chocolate = None\n",
    "    \n",
    "    def grab_cookie(self, cookie_str):\n",
    "        \"\"\"Removes 1 cookie from the bowl\"\"\"\n",
    "        if ((cookie_str == 'vanilla') and (self.n_vanilla > 0)):\n",
    "            self.n_vanilla -= 1\n",
    "        elif ((cookie_str == 'chocolate') and (self.n_chocolate > 0)):\n",
    "            self.n_chocolate -= 1\n",
    "        self.update_percentages()\n",
    "    \n",
    "    def update_percentages(self):\n",
    "        self.pct_vanilla = self.n_vanilla / (self.n_chocolate + self.n_vanilla)\n",
    "        self.pct_chocolate = 1.0 - self.pct_vanilla\n",
    "        \n",
    "class Cookie(Pmf):\n",
    "    \"\"\"A map from string bowl ID to probability\"\"\"\n",
    "    \n",
    "    def __init__(self, hypos):\n",
    "        \"\"\" Initialize self.\n",
    "        hypos: sequence of string bowl IDs\n",
    "        \"\"\"\n",
    "        Pmf.__init__(self)\n",
    "        for hypo in hypos:\n",
    "            self.Set(hypo, 1)\n",
    "        self.Normalize()\n",
    "    \n",
    "    def Update(self, data):\n",
    "        \"\"\"Updates the PMF with new data.\n",
    "        \n",
    "        data: string cookie type\n",
    "        \"\"\"\n",
    "        for hypo in self.Values():\n",
    "            like = self.Likelihood(data, hypo)\n",
    "            self.Mult(hypo, like)\n",
    "        self.Normalize()\n",
    "    \n",
    "    mixes = {\n",
    "        'Bowl 1': Bowl(n_vanilla=30, n_chocolate=10),\n",
    "        'Bowl 2': Bowl(n_vanilla=20, n_chocolate=20)\n",
    "    }\n",
    "    \n",
    "    def Likelihood(self, data, hypo):\n",
    "        \"\"\" The likelihood of the data under the hypothesis\n",
    "        \n",
    "        data: string cookie type\n",
    "        hypo: string bowl ID\n",
    "        \"\"\"\n",
    "        for bowl, bowl_object in self.mixes.items():\n",
    "            bowl_object.update_percentages()\n",
    "        bowl_1_mix = dict(\n",
    "            vanilla=self.mixes['Bowl 1'].pct_vanilla,\n",
    "            chocolate=self.mixes['Bowl 1'].pct_chocolate\n",
    "        )\n",
    "        bowl_2_mix = dict(\n",
    "            vanilla=self.mixes['Bowl 2'].pct_vanilla,\n",
    "            chocolate=self.mixes['Bowl 2'].pct_chocolate\n",
    "        )\n",
    "        bowls = dict()\n",
    "        bowls['Bowl 1'] = bowl_1_mix\n",
    "        bowls['Bowl 2'] = bowl_2_mix\n",
    "        mix = bowls[hypo]\n",
    "        like = mix[data]\n",
    "        return like"
   ]
  },
  {
   "cell_type": "code",
   "execution_count": 77,
   "metadata": {},
   "outputs": [
    {
     "name": "stdout",
     "output_type": "stream",
     "text": [
      "Bowl 1 0.6000000000000001\n",
      "Bowl 2 0.4\n",
      "Bowl 1 0.4285714285714286\n",
      "Bowl 2 0.5714285714285714\n",
      "Bowl 1 0.5294117647058824\n",
      "Bowl 2 0.4705882352941176\n",
      "Bowl 1 0.6279069767441862\n",
      "Bowl 2 0.37209302325581395\n"
     ]
    }
   ],
   "source": [
    "pmf = Cookie(['Bowl 1', 'Bowl 2'])\n",
    "for cookie in ['vanilla', 'chocolate','vanilla', 'vanilla']:\n",
    "    pmf.Update(cookie)\n",
    "    pmf.Print()"
   ]
  },
  {
   "cell_type": "code",
   "execution_count": null,
   "metadata": {},
   "outputs": [],
   "source": []
  }
 ],
 "metadata": {
  "kernelspec": {
   "display_name": "thinkbayes_py3",
   "language": "python",
   "name": "thinkbayes_py3"
  },
  "language_info": {
   "codemirror_mode": {
    "name": "ipython",
    "version": 3
   },
   "file_extension": ".py",
   "mimetype": "text/x-python",
   "name": "python",
   "nbconvert_exporter": "python",
   "pygments_lexer": "ipython3",
   "version": "3.6.5"
  }
 },
 "nbformat": 4,
 "nbformat_minor": 2
}
